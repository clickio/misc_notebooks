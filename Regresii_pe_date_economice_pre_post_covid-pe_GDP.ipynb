{
 "cells": [
  {
   "cell_type": "code",
   "execution_count": 1,
   "metadata": {
    "ExecuteTime": {
     "end_time": "2021-01-25T08:03:31.039341Z",
     "start_time": "2021-01-25T08:03:30.136519Z"
    }
   },
   "outputs": [],
   "source": [
    "import pandas as pd \n",
    "from sklearn.linear_model import LinearRegression\n",
    "from sklearn.metrics import mean_squared_error, r2_score, accuracy_score\n",
    "from sklearn.model_selection import train_test_split"
   ]
  },
  {
   "cell_type": "code",
   "execution_count": 2,
   "metadata": {
    "ExecuteTime": {
     "end_time": "2021-01-25T08:03:31.213594Z",
     "start_time": "2021-01-25T08:03:31.075779Z"
    }
   },
   "outputs": [
    {
     "data": {
      "text/html": [
       "<div>\n",
       "<style scoped>\n",
       "    .dataframe tbody tr th:only-of-type {\n",
       "        vertical-align: middle;\n",
       "    }\n",
       "\n",
       "    .dataframe tbody tr th {\n",
       "        vertical-align: top;\n",
       "    }\n",
       "\n",
       "    .dataframe thead th {\n",
       "        text-align: right;\n",
       "    }\n",
       "</style>\n",
       "<table border=\"1\" class=\"dataframe\">\n",
       "  <thead>\n",
       "    <tr style=\"text-align: right;\">\n",
       "      <th></th>\n",
       "      <th>Country</th>\n",
       "      <th>Year</th>\n",
       "      <th>GDP in euro</th>\n",
       "      <th>Number of cases</th>\n",
       "      <th>Interest rate cut</th>\n",
       "      <th>Per capita income</th>\n",
       "      <th>Saving rate</th>\n",
       "      <th>Ownership</th>\n",
       "      <th>Capital mobilization</th>\n",
       "      <th>Balance of payments</th>\n",
       "      <th>Unemployment rate</th>\n",
       "      <th>Budget deficit or suplus</th>\n",
       "      <th>Consumption</th>\n",
       "      <th>Eurozone</th>\n",
       "      <th>Non-euro</th>\n",
       "      <th>Pre-covid</th>\n",
       "      <th>Post-covid</th>\n",
       "    </tr>\n",
       "  </thead>\n",
       "  <tbody>\n",
       "    <tr>\n",
       "      <th>0</th>\n",
       "      <td>Belgia</td>\n",
       "      <td>2018Q1</td>\n",
       "      <td>113350.0</td>\n",
       "      <td>NaN</td>\n",
       "      <td>0.85</td>\n",
       "      <td>113900.0</td>\n",
       "      <td>11.38</td>\n",
       "      <td>NaN</td>\n",
       "      <td>101.9</td>\n",
       "      <td>-1669.0</td>\n",
       "      <td>308</td>\n",
       "      <td>-7.2</td>\n",
       "      <td>58775.0</td>\n",
       "      <td>1</td>\n",
       "      <td>0</td>\n",
       "      <td>1</td>\n",
       "      <td>0</td>\n",
       "    </tr>\n",
       "    <tr>\n",
       "      <th>1</th>\n",
       "      <td>Belgia</td>\n",
       "      <td>2018Q2</td>\n",
       "      <td>114752.0</td>\n",
       "      <td>NaN</td>\n",
       "      <td>0.81</td>\n",
       "      <td>115494.0</td>\n",
       "      <td>11.39</td>\n",
       "      <td>107.27</td>\n",
       "      <td>107.7</td>\n",
       "      <td>2168.0</td>\n",
       "      <td>304</td>\n",
       "      <td>5.0</td>\n",
       "      <td>59380.0</td>\n",
       "      <td>1</td>\n",
       "      <td>0</td>\n",
       "      <td>1</td>\n",
       "      <td>0</td>\n",
       "    </tr>\n",
       "    <tr>\n",
       "      <th>2</th>\n",
       "      <td>Belgia</td>\n",
       "      <td>2018Q3</td>\n",
       "      <td>115127.0</td>\n",
       "      <td>NaN</td>\n",
       "      <td>0.72</td>\n",
       "      <td>116002.0</td>\n",
       "      <td>11.53</td>\n",
       "      <td>109.03</td>\n",
       "      <td>102.8</td>\n",
       "      <td>-3162.0</td>\n",
       "      <td>300</td>\n",
       "      <td>-4.7</td>\n",
       "      <td>59739.0</td>\n",
       "      <td>1</td>\n",
       "      <td>0</td>\n",
       "      <td>1</td>\n",
       "      <td>0</td>\n",
       "    </tr>\n",
       "    <tr>\n",
       "      <th>3</th>\n",
       "      <td>Belgia</td>\n",
       "      <td>2018Q4</td>\n",
       "      <td>117190.0</td>\n",
       "      <td>NaN</td>\n",
       "      <td>0.80</td>\n",
       "      <td>119514.0</td>\n",
       "      <td>12.08</td>\n",
       "      <td>108.56</td>\n",
       "      <td>124.4</td>\n",
       "      <td>-2327.0</td>\n",
       "      <td>290</td>\n",
       "      <td>3.0</td>\n",
       "      <td>60354.0</td>\n",
       "      <td>1</td>\n",
       "      <td>0</td>\n",
       "      <td>1</td>\n",
       "      <td>0</td>\n",
       "    </tr>\n",
       "    <tr>\n",
       "      <th>4</th>\n",
       "      <td>Belgia</td>\n",
       "      <td>2019Q1</td>\n",
       "      <td>117479.0</td>\n",
       "      <td>NaN</td>\n",
       "      <td>0.67</td>\n",
       "      <td>118334.0</td>\n",
       "      <td>13.07</td>\n",
       "      <td>109.56</td>\n",
       "      <td>106.9</td>\n",
       "      <td>-1267.0</td>\n",
       "      <td>284</td>\n",
       "      <td>-8.3</td>\n",
       "      <td>60445.0</td>\n",
       "      <td>1</td>\n",
       "      <td>0</td>\n",
       "      <td>1</td>\n",
       "      <td>0</td>\n",
       "    </tr>\n",
       "    <tr>\n",
       "      <th>...</th>\n",
       "      <td>...</td>\n",
       "      <td>...</td>\n",
       "      <td>...</td>\n",
       "      <td>...</td>\n",
       "      <td>...</td>\n",
       "      <td>...</td>\n",
       "      <td>...</td>\n",
       "      <td>...</td>\n",
       "      <td>...</td>\n",
       "      <td>...</td>\n",
       "      <td>...</td>\n",
       "      <td>...</td>\n",
       "      <td>...</td>\n",
       "      <td>...</td>\n",
       "      <td>...</td>\n",
       "      <td>...</td>\n",
       "      <td>...</td>\n",
       "    </tr>\n",
       "    <tr>\n",
       "      <th>303</th>\n",
       "      <td>Regatul Unit</td>\n",
       "      <td>2019Q3</td>\n",
       "      <td>618880.6</td>\n",
       "      <td>NaN</td>\n",
       "      <td>0.60</td>\n",
       "      <td>612293.0</td>\n",
       "      <td>6.20</td>\n",
       "      <td>111.40</td>\n",
       "      <td>110.5</td>\n",
       "      <td>-40963.8</td>\n",
       "      <td>1333</td>\n",
       "      <td>-2.7</td>\n",
       "      <td>396191.1</td>\n",
       "      <td>0</td>\n",
       "      <td>1</td>\n",
       "      <td>0</td>\n",
       "      <td>1</td>\n",
       "    </tr>\n",
       "    <tr>\n",
       "      <th>304</th>\n",
       "      <td>Regatul Unit</td>\n",
       "      <td>2019Q4</td>\n",
       "      <td>649860.6</td>\n",
       "      <td>NaN</td>\n",
       "      <td>0.71</td>\n",
       "      <td>644928.0</td>\n",
       "      <td>7.38</td>\n",
       "      <td>111.50</td>\n",
       "      <td>109.0</td>\n",
       "      <td>12985.9</td>\n",
       "      <td>1231</td>\n",
       "      <td>-4.0</td>\n",
       "      <td>414269.6</td>\n",
       "      <td>0</td>\n",
       "      <td>1</td>\n",
       "      <td>0</td>\n",
       "      <td>1</td>\n",
       "    </tr>\n",
       "    <tr>\n",
       "      <th>305</th>\n",
       "      <td>Regatul Unit</td>\n",
       "      <td>2020Q1</td>\n",
       "      <td>642870.4</td>\n",
       "      <td>NaN</td>\n",
       "      <td>0.55</td>\n",
       "      <td>629401.0</td>\n",
       "      <td>9.13</td>\n",
       "      <td>111.76</td>\n",
       "      <td>110.2</td>\n",
       "      <td>-6258.0</td>\n",
       "      <td>1321</td>\n",
       "      <td>-0.3</td>\n",
       "      <td>402783.4</td>\n",
       "      <td>0</td>\n",
       "      <td>1</td>\n",
       "      <td>0</td>\n",
       "      <td>1</td>\n",
       "    </tr>\n",
       "    <tr>\n",
       "      <th>306</th>\n",
       "      <td>Regatul Unit</td>\n",
       "      <td>2020Q2</td>\n",
       "      <td>536776.7</td>\n",
       "      <td>NaN</td>\n",
       "      <td>0.25</td>\n",
       "      <td>514841.0</td>\n",
       "      <td>28.12</td>\n",
       "      <td>111.76</td>\n",
       "      <td>78.1</td>\n",
       "      <td>-13648.7</td>\n",
       "      <td>1290</td>\n",
       "      <td>-25.9</td>\n",
       "      <td>305501.4</td>\n",
       "      <td>0</td>\n",
       "      <td>1</td>\n",
       "      <td>0</td>\n",
       "      <td>1</td>\n",
       "    </tr>\n",
       "    <tr>\n",
       "      <th>307</th>\n",
       "      <td>Regatul Unit</td>\n",
       "      <td>2020Q3</td>\n",
       "      <td>596839.9</td>\n",
       "      <td>22428591.0</td>\n",
       "      <td>0.19</td>\n",
       "      <td>583738.0</td>\n",
       "      <td>NaN</td>\n",
       "      <td>107.55</td>\n",
       "      <td>97.9</td>\n",
       "      <td>-36610.5</td>\n",
       "      <td>1650</td>\n",
       "      <td>NaN</td>\n",
       "      <td>355555.6</td>\n",
       "      <td>0</td>\n",
       "      <td>1</td>\n",
       "      <td>0</td>\n",
       "      <td>1</td>\n",
       "    </tr>\n",
       "  </tbody>\n",
       "</table>\n",
       "<p>308 rows × 17 columns</p>\n",
       "</div>"
      ],
      "text/plain": [
       "         Country     Year  GDP in euro   Number of cases  Interest rate cut  \\\n",
       "0          Belgia  2018Q1      113350.0              NaN               0.85   \n",
       "1          Belgia  2018Q2      114752.0              NaN               0.81   \n",
       "2          Belgia  2018Q3      115127.0              NaN               0.72   \n",
       "3          Belgia  2018Q4      117190.0              NaN               0.80   \n",
       "4          Belgia  2019Q1      117479.0              NaN               0.67   \n",
       "..            ...     ...           ...              ...                ...   \n",
       "303  Regatul Unit  2019Q3      618880.6              NaN               0.60   \n",
       "304  Regatul Unit  2019Q4      649860.6              NaN               0.71   \n",
       "305  Regatul Unit  2020Q1      642870.4              NaN               0.55   \n",
       "306  Regatul Unit  2020Q2      536776.7              NaN               0.25   \n",
       "307  Regatul Unit  2020Q3      596839.9       22428591.0               0.19   \n",
       "\n",
       "     Per capita income  Saving rate  Ownership  Capital mobilization  \\\n",
       "0             113900.0        11.38        NaN                 101.9   \n",
       "1             115494.0        11.39     107.27                 107.7   \n",
       "2             116002.0        11.53     109.03                 102.8   \n",
       "3             119514.0        12.08     108.56                 124.4   \n",
       "4             118334.0        13.07     109.56                 106.9   \n",
       "..                 ...          ...        ...                   ...   \n",
       "303           612293.0         6.20     111.40                 110.5   \n",
       "304           644928.0         7.38     111.50                 109.0   \n",
       "305           629401.0         9.13     111.76                 110.2   \n",
       "306           514841.0        28.12     111.76                  78.1   \n",
       "307           583738.0          NaN     107.55                  97.9   \n",
       "\n",
       "     Balance of payments  Unemployment rate  Budget deficit or suplus  \\\n",
       "0                -1669.0                308                      -7.2   \n",
       "1                 2168.0                304                       5.0   \n",
       "2                -3162.0                300                      -4.7   \n",
       "3                -2327.0                290                       3.0   \n",
       "4                -1267.0                284                      -8.3   \n",
       "..                   ...                ...                       ...   \n",
       "303             -40963.8               1333                      -2.7   \n",
       "304              12985.9               1231                      -4.0   \n",
       "305              -6258.0               1321                      -0.3   \n",
       "306             -13648.7               1290                     -25.9   \n",
       "307             -36610.5               1650                       NaN   \n",
       "\n",
       "     Consumption  Eurozone  Non-euro  Pre-covid  Post-covid  \n",
       "0        58775.0         1         0          1           0  \n",
       "1        59380.0         1         0          1           0  \n",
       "2        59739.0         1         0          1           0  \n",
       "3        60354.0         1         0          1           0  \n",
       "4        60445.0         1         0          1           0  \n",
       "..           ...       ...       ...        ...         ...  \n",
       "303     396191.1         0         1          0           1  \n",
       "304     414269.6         0         1          0           1  \n",
       "305     402783.4         0         1          0           1  \n",
       "306     305501.4         0         1          0           1  \n",
       "307     355555.6         0         1          0           1  \n",
       "\n",
       "[308 rows x 17 columns]"
      ]
     },
     "execution_count": 2,
     "metadata": {},
     "output_type": "execute_result"
    }
   ],
   "source": [
    "df = pd.read_excel('baza-de-date.xlsx', sheet_name='Database')\n",
    "df"
   ]
  },
  {
   "cell_type": "code",
   "execution_count": 3,
   "metadata": {
    "ExecuteTime": {
     "end_time": "2021-01-25T08:03:31.328333Z",
     "start_time": "2021-01-25T08:03:31.322461Z"
    }
   },
   "outputs": [
    {
     "data": {
      "text/plain": [
       "Index(['Country ', 'Year', 'GDP in euro ', 'Number of cases',\n",
       "       'Interest rate cut', 'Per capita income', 'Saving rate', 'Ownership',\n",
       "       'Capital mobilization', 'Balance of payments', 'Unemployment rate',\n",
       "       'Budget deficit or suplus', 'Consumption', 'Eurozone', 'Non-euro',\n",
       "       'Pre-covid', 'Post-covid'],\n",
       "      dtype='object')"
      ]
     },
     "execution_count": 3,
     "metadata": {},
     "output_type": "execute_result"
    }
   ],
   "source": [
    "df.columns"
   ]
  },
  {
   "cell_type": "code",
   "execution_count": 4,
   "metadata": {
    "ExecuteTime": {
     "end_time": "2021-01-25T08:03:31.602566Z",
     "start_time": "2021-01-25T08:03:31.595443Z"
    }
   },
   "outputs": [
    {
     "data": {
      "text/plain": [
       "Country                     False\n",
       "Year                        False\n",
       "GDP in euro                 False\n",
       "Number of cases              True\n",
       "Interest rate cut           False\n",
       "Per capita income            True\n",
       "Saving rate                  True\n",
       "Ownership                    True\n",
       "Capital mobilization        False\n",
       "Balance of payments         False\n",
       "Unemployment rate           False\n",
       "Budget deficit or suplus     True\n",
       "Consumption                 False\n",
       "Eurozone                    False\n",
       "Non-euro                    False\n",
       "Pre-covid                   False\n",
       "Post-covid                  False\n",
       "dtype: bool"
      ]
     },
     "execution_count": 4,
     "metadata": {},
     "output_type": "execute_result"
    }
   ],
   "source": [
    "df.isna().any()"
   ]
  },
  {
   "cell_type": "code",
   "execution_count": 5,
   "metadata": {
    "ExecuteTime": {
     "end_time": "2021-01-25T08:03:32.187953Z",
     "start_time": "2021-01-25T08:03:32.185432Z"
    }
   },
   "outputs": [],
   "source": [
    "#df.dropna(axis=0, inplace=True)"
   ]
  },
  {
   "cell_type": "code",
   "execution_count": 6,
   "metadata": {
    "ExecuteTime": {
     "end_time": "2021-01-25T08:03:32.762982Z",
     "start_time": "2021-01-25T08:03:32.734402Z"
    }
   },
   "outputs": [
    {
     "data": {
      "text/html": [
       "<div>\n",
       "<style scoped>\n",
       "    .dataframe tbody tr th:only-of-type {\n",
       "        vertical-align: middle;\n",
       "    }\n",
       "\n",
       "    .dataframe tbody tr th {\n",
       "        vertical-align: top;\n",
       "    }\n",
       "\n",
       "    .dataframe thead th {\n",
       "        text-align: right;\n",
       "    }\n",
       "</style>\n",
       "<table border=\"1\" class=\"dataframe\">\n",
       "  <thead>\n",
       "    <tr style=\"text-align: right;\">\n",
       "      <th></th>\n",
       "      <th>Country</th>\n",
       "      <th>Year</th>\n",
       "      <th>GDP in euro</th>\n",
       "      <th>Interest rate cut</th>\n",
       "      <th>Per capita income</th>\n",
       "      <th>Saving rate</th>\n",
       "      <th>Ownership</th>\n",
       "      <th>Capital mobilization</th>\n",
       "      <th>Balance of payments</th>\n",
       "      <th>Unemployment rate</th>\n",
       "      <th>Budget deficit or suplus</th>\n",
       "      <th>Consumption</th>\n",
       "      <th>Eurozone</th>\n",
       "      <th>Non-euro</th>\n",
       "      <th>Pre-covid</th>\n",
       "      <th>Post-covid</th>\n",
       "    </tr>\n",
       "  </thead>\n",
       "  <tbody>\n",
       "    <tr>\n",
       "      <th>0</th>\n",
       "      <td>Belgia</td>\n",
       "      <td>2018Q1</td>\n",
       "      <td>113350.0</td>\n",
       "      <td>0.85</td>\n",
       "      <td>113900.0</td>\n",
       "      <td>11.38</td>\n",
       "      <td>NaN</td>\n",
       "      <td>101.9</td>\n",
       "      <td>-1669.0</td>\n",
       "      <td>308</td>\n",
       "      <td>-7.2</td>\n",
       "      <td>58775.0</td>\n",
       "      <td>1</td>\n",
       "      <td>0</td>\n",
       "      <td>1</td>\n",
       "      <td>0</td>\n",
       "    </tr>\n",
       "    <tr>\n",
       "      <th>1</th>\n",
       "      <td>Belgia</td>\n",
       "      <td>2018Q2</td>\n",
       "      <td>114752.0</td>\n",
       "      <td>0.81</td>\n",
       "      <td>115494.0</td>\n",
       "      <td>11.39</td>\n",
       "      <td>107.27</td>\n",
       "      <td>107.7</td>\n",
       "      <td>2168.0</td>\n",
       "      <td>304</td>\n",
       "      <td>5.0</td>\n",
       "      <td>59380.0</td>\n",
       "      <td>1</td>\n",
       "      <td>0</td>\n",
       "      <td>1</td>\n",
       "      <td>0</td>\n",
       "    </tr>\n",
       "    <tr>\n",
       "      <th>2</th>\n",
       "      <td>Belgia</td>\n",
       "      <td>2018Q3</td>\n",
       "      <td>115127.0</td>\n",
       "      <td>0.72</td>\n",
       "      <td>116002.0</td>\n",
       "      <td>11.53</td>\n",
       "      <td>109.03</td>\n",
       "      <td>102.8</td>\n",
       "      <td>-3162.0</td>\n",
       "      <td>300</td>\n",
       "      <td>-4.7</td>\n",
       "      <td>59739.0</td>\n",
       "      <td>1</td>\n",
       "      <td>0</td>\n",
       "      <td>1</td>\n",
       "      <td>0</td>\n",
       "    </tr>\n",
       "    <tr>\n",
       "      <th>3</th>\n",
       "      <td>Belgia</td>\n",
       "      <td>2018Q4</td>\n",
       "      <td>117190.0</td>\n",
       "      <td>0.80</td>\n",
       "      <td>119514.0</td>\n",
       "      <td>12.08</td>\n",
       "      <td>108.56</td>\n",
       "      <td>124.4</td>\n",
       "      <td>-2327.0</td>\n",
       "      <td>290</td>\n",
       "      <td>3.0</td>\n",
       "      <td>60354.0</td>\n",
       "      <td>1</td>\n",
       "      <td>0</td>\n",
       "      <td>1</td>\n",
       "      <td>0</td>\n",
       "    </tr>\n",
       "    <tr>\n",
       "      <th>4</th>\n",
       "      <td>Belgia</td>\n",
       "      <td>2019Q1</td>\n",
       "      <td>117479.0</td>\n",
       "      <td>0.67</td>\n",
       "      <td>118334.0</td>\n",
       "      <td>13.07</td>\n",
       "      <td>109.56</td>\n",
       "      <td>106.9</td>\n",
       "      <td>-1267.0</td>\n",
       "      <td>284</td>\n",
       "      <td>-8.3</td>\n",
       "      <td>60445.0</td>\n",
       "      <td>1</td>\n",
       "      <td>0</td>\n",
       "      <td>1</td>\n",
       "      <td>0</td>\n",
       "    </tr>\n",
       "    <tr>\n",
       "      <th>...</th>\n",
       "      <td>...</td>\n",
       "      <td>...</td>\n",
       "      <td>...</td>\n",
       "      <td>...</td>\n",
       "      <td>...</td>\n",
       "      <td>...</td>\n",
       "      <td>...</td>\n",
       "      <td>...</td>\n",
       "      <td>...</td>\n",
       "      <td>...</td>\n",
       "      <td>...</td>\n",
       "      <td>...</td>\n",
       "      <td>...</td>\n",
       "      <td>...</td>\n",
       "      <td>...</td>\n",
       "      <td>...</td>\n",
       "    </tr>\n",
       "    <tr>\n",
       "      <th>303</th>\n",
       "      <td>Regatul Unit</td>\n",
       "      <td>2019Q3</td>\n",
       "      <td>618880.6</td>\n",
       "      <td>0.60</td>\n",
       "      <td>612293.0</td>\n",
       "      <td>6.20</td>\n",
       "      <td>111.40</td>\n",
       "      <td>110.5</td>\n",
       "      <td>-40963.8</td>\n",
       "      <td>1333</td>\n",
       "      <td>-2.7</td>\n",
       "      <td>396191.1</td>\n",
       "      <td>0</td>\n",
       "      <td>1</td>\n",
       "      <td>0</td>\n",
       "      <td>1</td>\n",
       "    </tr>\n",
       "    <tr>\n",
       "      <th>304</th>\n",
       "      <td>Regatul Unit</td>\n",
       "      <td>2019Q4</td>\n",
       "      <td>649860.6</td>\n",
       "      <td>0.71</td>\n",
       "      <td>644928.0</td>\n",
       "      <td>7.38</td>\n",
       "      <td>111.50</td>\n",
       "      <td>109.0</td>\n",
       "      <td>12985.9</td>\n",
       "      <td>1231</td>\n",
       "      <td>-4.0</td>\n",
       "      <td>414269.6</td>\n",
       "      <td>0</td>\n",
       "      <td>1</td>\n",
       "      <td>0</td>\n",
       "      <td>1</td>\n",
       "    </tr>\n",
       "    <tr>\n",
       "      <th>305</th>\n",
       "      <td>Regatul Unit</td>\n",
       "      <td>2020Q1</td>\n",
       "      <td>642870.4</td>\n",
       "      <td>0.55</td>\n",
       "      <td>629401.0</td>\n",
       "      <td>9.13</td>\n",
       "      <td>111.76</td>\n",
       "      <td>110.2</td>\n",
       "      <td>-6258.0</td>\n",
       "      <td>1321</td>\n",
       "      <td>-0.3</td>\n",
       "      <td>402783.4</td>\n",
       "      <td>0</td>\n",
       "      <td>1</td>\n",
       "      <td>0</td>\n",
       "      <td>1</td>\n",
       "    </tr>\n",
       "    <tr>\n",
       "      <th>306</th>\n",
       "      <td>Regatul Unit</td>\n",
       "      <td>2020Q2</td>\n",
       "      <td>536776.7</td>\n",
       "      <td>0.25</td>\n",
       "      <td>514841.0</td>\n",
       "      <td>28.12</td>\n",
       "      <td>111.76</td>\n",
       "      <td>78.1</td>\n",
       "      <td>-13648.7</td>\n",
       "      <td>1290</td>\n",
       "      <td>-25.9</td>\n",
       "      <td>305501.4</td>\n",
       "      <td>0</td>\n",
       "      <td>1</td>\n",
       "      <td>0</td>\n",
       "      <td>1</td>\n",
       "    </tr>\n",
       "    <tr>\n",
       "      <th>307</th>\n",
       "      <td>Regatul Unit</td>\n",
       "      <td>2020Q3</td>\n",
       "      <td>596839.9</td>\n",
       "      <td>0.19</td>\n",
       "      <td>583738.0</td>\n",
       "      <td>NaN</td>\n",
       "      <td>107.55</td>\n",
       "      <td>97.9</td>\n",
       "      <td>-36610.5</td>\n",
       "      <td>1650</td>\n",
       "      <td>NaN</td>\n",
       "      <td>355555.6</td>\n",
       "      <td>0</td>\n",
       "      <td>1</td>\n",
       "      <td>0</td>\n",
       "      <td>1</td>\n",
       "    </tr>\n",
       "  </tbody>\n",
       "</table>\n",
       "<p>308 rows × 16 columns</p>\n",
       "</div>"
      ],
      "text/plain": [
       "         Country     Year  GDP in euro   Interest rate cut  Per capita income  \\\n",
       "0          Belgia  2018Q1      113350.0               0.85           113900.0   \n",
       "1          Belgia  2018Q2      114752.0               0.81           115494.0   \n",
       "2          Belgia  2018Q3      115127.0               0.72           116002.0   \n",
       "3          Belgia  2018Q4      117190.0               0.80           119514.0   \n",
       "4          Belgia  2019Q1      117479.0               0.67           118334.0   \n",
       "..            ...     ...           ...                ...                ...   \n",
       "303  Regatul Unit  2019Q3      618880.6               0.60           612293.0   \n",
       "304  Regatul Unit  2019Q4      649860.6               0.71           644928.0   \n",
       "305  Regatul Unit  2020Q1      642870.4               0.55           629401.0   \n",
       "306  Regatul Unit  2020Q2      536776.7               0.25           514841.0   \n",
       "307  Regatul Unit  2020Q3      596839.9               0.19           583738.0   \n",
       "\n",
       "     Saving rate  Ownership  Capital mobilization  Balance of payments  \\\n",
       "0          11.38        NaN                 101.9              -1669.0   \n",
       "1          11.39     107.27                 107.7               2168.0   \n",
       "2          11.53     109.03                 102.8              -3162.0   \n",
       "3          12.08     108.56                 124.4              -2327.0   \n",
       "4          13.07     109.56                 106.9              -1267.0   \n",
       "..           ...        ...                   ...                  ...   \n",
       "303         6.20     111.40                 110.5             -40963.8   \n",
       "304         7.38     111.50                 109.0              12985.9   \n",
       "305         9.13     111.76                 110.2              -6258.0   \n",
       "306        28.12     111.76                  78.1             -13648.7   \n",
       "307          NaN     107.55                  97.9             -36610.5   \n",
       "\n",
       "     Unemployment rate  Budget deficit or suplus  Consumption  Eurozone  \\\n",
       "0                  308                      -7.2      58775.0         1   \n",
       "1                  304                       5.0      59380.0         1   \n",
       "2                  300                      -4.7      59739.0         1   \n",
       "3                  290                       3.0      60354.0         1   \n",
       "4                  284                      -8.3      60445.0         1   \n",
       "..                 ...                       ...          ...       ...   \n",
       "303               1333                      -2.7     396191.1         0   \n",
       "304               1231                      -4.0     414269.6         0   \n",
       "305               1321                      -0.3     402783.4         0   \n",
       "306               1290                     -25.9     305501.4         0   \n",
       "307               1650                       NaN     355555.6         0   \n",
       "\n",
       "     Non-euro  Pre-covid  Post-covid  \n",
       "0           0          1           0  \n",
       "1           0          1           0  \n",
       "2           0          1           0  \n",
       "3           0          1           0  \n",
       "4           0          1           0  \n",
       "..        ...        ...         ...  \n",
       "303         1          0           1  \n",
       "304         1          0           1  \n",
       "305         1          0           1  \n",
       "306         1          0           1  \n",
       "307         1          0           1  \n",
       "\n",
       "[308 rows x 16 columns]"
      ]
     },
     "execution_count": 6,
     "metadata": {},
     "output_type": "execute_result"
    }
   ],
   "source": [
    "df.drop('Number of cases', axis='columns', inplace=True)\n",
    "df"
   ]
  },
  {
   "cell_type": "code",
   "execution_count": 7,
   "metadata": {
    "ExecuteTime": {
     "end_time": "2021-01-25T08:03:33.229725Z",
     "start_time": "2021-01-25T08:03:33.194293Z"
    }
   },
   "outputs": [
    {
     "data": {
      "text/html": [
       "<div>\n",
       "<style scoped>\n",
       "    .dataframe tbody tr th:only-of-type {\n",
       "        vertical-align: middle;\n",
       "    }\n",
       "\n",
       "    .dataframe tbody tr th {\n",
       "        vertical-align: top;\n",
       "    }\n",
       "\n",
       "    .dataframe thead th {\n",
       "        text-align: right;\n",
       "    }\n",
       "</style>\n",
       "<table border=\"1\" class=\"dataframe\">\n",
       "  <thead>\n",
       "    <tr style=\"text-align: right;\">\n",
       "      <th></th>\n",
       "      <th>Country</th>\n",
       "      <th>Year</th>\n",
       "      <th>GDP in euro</th>\n",
       "      <th>Interest rate cut</th>\n",
       "      <th>Per capita income</th>\n",
       "      <th>Saving rate</th>\n",
       "      <th>Ownership</th>\n",
       "      <th>Capital mobilization</th>\n",
       "      <th>Balance of payments</th>\n",
       "      <th>Unemployment rate</th>\n",
       "      <th>Budget deficit or suplus</th>\n",
       "      <th>Consumption</th>\n",
       "      <th>Eurozone</th>\n",
       "      <th>Non-euro</th>\n",
       "      <th>Pre-covid</th>\n",
       "      <th>Post-covid</th>\n",
       "    </tr>\n",
       "  </thead>\n",
       "  <tbody>\n",
       "    <tr>\n",
       "      <th>0</th>\n",
       "      <td>Belgia</td>\n",
       "      <td>2018Q1</td>\n",
       "      <td>113350.0</td>\n",
       "      <td>0.85</td>\n",
       "      <td>113900.0</td>\n",
       "      <td>11.38</td>\n",
       "      <td>NaN</td>\n",
       "      <td>101.9</td>\n",
       "      <td>-1669.0</td>\n",
       "      <td>308</td>\n",
       "      <td>-7.2</td>\n",
       "      <td>58775.0</td>\n",
       "      <td>1</td>\n",
       "      <td>0</td>\n",
       "      <td>1</td>\n",
       "      <td>0</td>\n",
       "    </tr>\n",
       "    <tr>\n",
       "      <th>1</th>\n",
       "      <td>Belgia</td>\n",
       "      <td>2018Q2</td>\n",
       "      <td>114752.0</td>\n",
       "      <td>0.81</td>\n",
       "      <td>115494.0</td>\n",
       "      <td>11.39</td>\n",
       "      <td>107.27</td>\n",
       "      <td>107.7</td>\n",
       "      <td>2168.0</td>\n",
       "      <td>304</td>\n",
       "      <td>5.0</td>\n",
       "      <td>59380.0</td>\n",
       "      <td>1</td>\n",
       "      <td>0</td>\n",
       "      <td>1</td>\n",
       "      <td>0</td>\n",
       "    </tr>\n",
       "    <tr>\n",
       "      <th>2</th>\n",
       "      <td>Belgia</td>\n",
       "      <td>2018Q3</td>\n",
       "      <td>115127.0</td>\n",
       "      <td>0.72</td>\n",
       "      <td>116002.0</td>\n",
       "      <td>11.53</td>\n",
       "      <td>109.03</td>\n",
       "      <td>102.8</td>\n",
       "      <td>-3162.0</td>\n",
       "      <td>300</td>\n",
       "      <td>-4.7</td>\n",
       "      <td>59739.0</td>\n",
       "      <td>1</td>\n",
       "      <td>0</td>\n",
       "      <td>1</td>\n",
       "      <td>0</td>\n",
       "    </tr>\n",
       "    <tr>\n",
       "      <th>3</th>\n",
       "      <td>Belgia</td>\n",
       "      <td>2018Q4</td>\n",
       "      <td>117190.0</td>\n",
       "      <td>0.80</td>\n",
       "      <td>119514.0</td>\n",
       "      <td>12.08</td>\n",
       "      <td>108.56</td>\n",
       "      <td>124.4</td>\n",
       "      <td>-2327.0</td>\n",
       "      <td>290</td>\n",
       "      <td>3.0</td>\n",
       "      <td>60354.0</td>\n",
       "      <td>1</td>\n",
       "      <td>0</td>\n",
       "      <td>1</td>\n",
       "      <td>0</td>\n",
       "    </tr>\n",
       "    <tr>\n",
       "      <th>4</th>\n",
       "      <td>Belgia</td>\n",
       "      <td>2019Q1</td>\n",
       "      <td>117479.0</td>\n",
       "      <td>0.67</td>\n",
       "      <td>118334.0</td>\n",
       "      <td>13.07</td>\n",
       "      <td>109.56</td>\n",
       "      <td>106.9</td>\n",
       "      <td>-1267.0</td>\n",
       "      <td>284</td>\n",
       "      <td>-8.3</td>\n",
       "      <td>60445.0</td>\n",
       "      <td>1</td>\n",
       "      <td>0</td>\n",
       "      <td>1</td>\n",
       "      <td>0</td>\n",
       "    </tr>\n",
       "    <tr>\n",
       "      <th>...</th>\n",
       "      <td>...</td>\n",
       "      <td>...</td>\n",
       "      <td>...</td>\n",
       "      <td>...</td>\n",
       "      <td>...</td>\n",
       "      <td>...</td>\n",
       "      <td>...</td>\n",
       "      <td>...</td>\n",
       "      <td>...</td>\n",
       "      <td>...</td>\n",
       "      <td>...</td>\n",
       "      <td>...</td>\n",
       "      <td>...</td>\n",
       "      <td>...</td>\n",
       "      <td>...</td>\n",
       "      <td>...</td>\n",
       "    </tr>\n",
       "    <tr>\n",
       "      <th>303</th>\n",
       "      <td>Regatul Unit</td>\n",
       "      <td>2019Q3</td>\n",
       "      <td>618880.6</td>\n",
       "      <td>0.60</td>\n",
       "      <td>612293.0</td>\n",
       "      <td>6.20</td>\n",
       "      <td>111.40</td>\n",
       "      <td>110.5</td>\n",
       "      <td>-40963.8</td>\n",
       "      <td>1333</td>\n",
       "      <td>-2.7</td>\n",
       "      <td>396191.1</td>\n",
       "      <td>0</td>\n",
       "      <td>1</td>\n",
       "      <td>0</td>\n",
       "      <td>1</td>\n",
       "    </tr>\n",
       "    <tr>\n",
       "      <th>304</th>\n",
       "      <td>Regatul Unit</td>\n",
       "      <td>2019Q4</td>\n",
       "      <td>649860.6</td>\n",
       "      <td>0.71</td>\n",
       "      <td>644928.0</td>\n",
       "      <td>7.38</td>\n",
       "      <td>111.50</td>\n",
       "      <td>109.0</td>\n",
       "      <td>12985.9</td>\n",
       "      <td>1231</td>\n",
       "      <td>-4.0</td>\n",
       "      <td>414269.6</td>\n",
       "      <td>0</td>\n",
       "      <td>1</td>\n",
       "      <td>0</td>\n",
       "      <td>1</td>\n",
       "    </tr>\n",
       "    <tr>\n",
       "      <th>305</th>\n",
       "      <td>Regatul Unit</td>\n",
       "      <td>2020Q1</td>\n",
       "      <td>642870.4</td>\n",
       "      <td>0.55</td>\n",
       "      <td>629401.0</td>\n",
       "      <td>9.13</td>\n",
       "      <td>111.76</td>\n",
       "      <td>110.2</td>\n",
       "      <td>-6258.0</td>\n",
       "      <td>1321</td>\n",
       "      <td>-0.3</td>\n",
       "      <td>402783.4</td>\n",
       "      <td>0</td>\n",
       "      <td>1</td>\n",
       "      <td>0</td>\n",
       "      <td>1</td>\n",
       "    </tr>\n",
       "    <tr>\n",
       "      <th>306</th>\n",
       "      <td>Regatul Unit</td>\n",
       "      <td>2020Q2</td>\n",
       "      <td>536776.7</td>\n",
       "      <td>0.25</td>\n",
       "      <td>514841.0</td>\n",
       "      <td>28.12</td>\n",
       "      <td>111.76</td>\n",
       "      <td>78.1</td>\n",
       "      <td>-13648.7</td>\n",
       "      <td>1290</td>\n",
       "      <td>-25.9</td>\n",
       "      <td>305501.4</td>\n",
       "      <td>0</td>\n",
       "      <td>1</td>\n",
       "      <td>0</td>\n",
       "      <td>1</td>\n",
       "    </tr>\n",
       "    <tr>\n",
       "      <th>307</th>\n",
       "      <td>Regatul Unit</td>\n",
       "      <td>2020Q3</td>\n",
       "      <td>596839.9</td>\n",
       "      <td>0.19</td>\n",
       "      <td>583738.0</td>\n",
       "      <td>NaN</td>\n",
       "      <td>107.55</td>\n",
       "      <td>97.9</td>\n",
       "      <td>-36610.5</td>\n",
       "      <td>1650</td>\n",
       "      <td>NaN</td>\n",
       "      <td>355555.6</td>\n",
       "      <td>0</td>\n",
       "      <td>1</td>\n",
       "      <td>0</td>\n",
       "      <td>1</td>\n",
       "    </tr>\n",
       "  </tbody>\n",
       "</table>\n",
       "<p>308 rows × 16 columns</p>\n",
       "</div>"
      ],
      "text/plain": [
       "         Country     Year  GDP in euro   Interest rate cut  Per capita income  \\\n",
       "0          Belgia  2018Q1      113350.0               0.85           113900.0   \n",
       "1          Belgia  2018Q2      114752.0               0.81           115494.0   \n",
       "2          Belgia  2018Q3      115127.0               0.72           116002.0   \n",
       "3          Belgia  2018Q4      117190.0               0.80           119514.0   \n",
       "4          Belgia  2019Q1      117479.0               0.67           118334.0   \n",
       "..            ...     ...           ...                ...                ...   \n",
       "303  Regatul Unit  2019Q3      618880.6               0.60           612293.0   \n",
       "304  Regatul Unit  2019Q4      649860.6               0.71           644928.0   \n",
       "305  Regatul Unit  2020Q1      642870.4               0.55           629401.0   \n",
       "306  Regatul Unit  2020Q2      536776.7               0.25           514841.0   \n",
       "307  Regatul Unit  2020Q3      596839.9               0.19           583738.0   \n",
       "\n",
       "     Saving rate  Ownership  Capital mobilization  Balance of payments  \\\n",
       "0          11.38        NaN                 101.9              -1669.0   \n",
       "1          11.39     107.27                 107.7               2168.0   \n",
       "2          11.53     109.03                 102.8              -3162.0   \n",
       "3          12.08     108.56                 124.4              -2327.0   \n",
       "4          13.07     109.56                 106.9              -1267.0   \n",
       "..           ...        ...                   ...                  ...   \n",
       "303         6.20     111.40                 110.5             -40963.8   \n",
       "304         7.38     111.50                 109.0              12985.9   \n",
       "305         9.13     111.76                 110.2              -6258.0   \n",
       "306        28.12     111.76                  78.1             -13648.7   \n",
       "307          NaN     107.55                  97.9             -36610.5   \n",
       "\n",
       "     Unemployment rate  Budget deficit or suplus  Consumption  Eurozone  \\\n",
       "0                  308                      -7.2      58775.0         1   \n",
       "1                  304                       5.0      59380.0         1   \n",
       "2                  300                      -4.7      59739.0         1   \n",
       "3                  290                       3.0      60354.0         1   \n",
       "4                  284                      -8.3      60445.0         1   \n",
       "..                 ...                       ...          ...       ...   \n",
       "303               1333                      -2.7     396191.1         0   \n",
       "304               1231                      -4.0     414269.6         0   \n",
       "305               1321                      -0.3     402783.4         0   \n",
       "306               1290                     -25.9     305501.4         0   \n",
       "307               1650                       NaN     355555.6         0   \n",
       "\n",
       "     Non-euro  Pre-covid  Post-covid  \n",
       "0           0          1           0  \n",
       "1           0          1           0  \n",
       "2           0          1           0  \n",
       "3           0          1           0  \n",
       "4           0          1           0  \n",
       "..        ...        ...         ...  \n",
       "303         1          0           1  \n",
       "304         1          0           1  \n",
       "305         1          0           1  \n",
       "306         1          0           1  \n",
       "307         1          0           1  \n",
       "\n",
       "[308 rows x 16 columns]"
      ]
     },
     "execution_count": 7,
     "metadata": {},
     "output_type": "execute_result"
    }
   ],
   "source": [
    "df2 = df.dropna()\n",
    "df"
   ]
  },
  {
   "cell_type": "code",
   "execution_count": 8,
   "metadata": {
    "ExecuteTime": {
     "end_time": "2021-01-25T08:03:33.790617Z",
     "start_time": "2021-01-25T08:03:33.785688Z"
    }
   },
   "outputs": [
    {
     "data": {
      "text/plain": [
       "array(['Belgia', 'Bulgaria ', 'Cehia ', 'Danemarca', 'Germania',\n",
       "       'Estonia', 'Irlanda', 'Grecia', 'Spania', 'Franța', 'Croația',\n",
       "       'Italia', 'Cipru', 'Letonia', 'Lituania', 'Luxembourg', 'Ungaria ',\n",
       "       'Malta', 'Tările de Jos', 'Austria ', 'Polonia', 'Portugalia',\n",
       "       'Romania', 'Slovenia', 'Slovacia', 'Finlanda', 'Suedia',\n",
       "       'Regatul Unit'], dtype=object)"
      ]
     },
     "execution_count": 8,
     "metadata": {},
     "output_type": "execute_result"
    }
   ],
   "source": [
    "countries_list = df2['Country '].unique()\n",
    "countries_list"
   ]
  },
  {
   "cell_type": "code",
   "execution_count": 9,
   "metadata": {
    "ExecuteTime": {
     "end_time": "2021-01-25T08:03:34.335491Z",
     "start_time": "2021-01-25T08:03:34.330387Z"
    }
   },
   "outputs": [
    {
     "data": {
      "text/plain": [
       "[1,\n",
       " 2,\n",
       " 3,\n",
       " 4,\n",
       " 5,\n",
       " 6,\n",
       " 7,\n",
       " 8,\n",
       " 9,\n",
       " 10,\n",
       " 11,\n",
       " 12,\n",
       " 13,\n",
       " 14,\n",
       " 15,\n",
       " 16,\n",
       " 17,\n",
       " 18,\n",
       " 19,\n",
       " 20,\n",
       " 21,\n",
       " 22,\n",
       " 23,\n",
       " 24,\n",
       " 25,\n",
       " 26,\n",
       " 27,\n",
       " 28]"
      ]
     },
     "execution_count": 9,
     "metadata": {},
     "output_type": "execute_result"
    }
   ],
   "source": [
    "country_index_list = [i for i in range(1, 29)]\n",
    "country_index_list"
   ]
  },
  {
   "cell_type": "code",
   "execution_count": 10,
   "metadata": {
    "ExecuteTime": {
     "end_time": "2021-01-25T08:03:34.833431Z",
     "start_time": "2021-01-25T08:03:34.830575Z"
    }
   },
   "outputs": [],
   "source": [
    "country_dict = dict(zip(countries_list, country_index_list))"
   ]
  },
  {
   "cell_type": "code",
   "execution_count": 11,
   "metadata": {
    "ExecuteTime": {
     "end_time": "2021-01-25T08:03:35.290783Z",
     "start_time": "2021-01-25T08:03:35.285788Z"
    }
   },
   "outputs": [
    {
     "data": {
      "text/plain": [
       "{'Belgia': 1,\n",
       " 'Bulgaria ': 2,\n",
       " 'Cehia ': 3,\n",
       " 'Danemarca': 4,\n",
       " 'Germania': 5,\n",
       " 'Estonia': 6,\n",
       " 'Irlanda': 7,\n",
       " 'Grecia': 8,\n",
       " 'Spania': 9,\n",
       " 'Franța': 10,\n",
       " 'Croația': 11,\n",
       " 'Italia': 12,\n",
       " 'Cipru': 13,\n",
       " 'Letonia': 14,\n",
       " 'Lituania': 15,\n",
       " 'Luxembourg': 16,\n",
       " 'Ungaria ': 17,\n",
       " 'Malta': 18,\n",
       " 'Tările de Jos': 19,\n",
       " 'Austria ': 20,\n",
       " 'Polonia': 21,\n",
       " 'Portugalia': 22,\n",
       " 'Romania': 23,\n",
       " 'Slovenia': 24,\n",
       " 'Slovacia': 25,\n",
       " 'Finlanda': 26,\n",
       " 'Suedia': 27,\n",
       " 'Regatul Unit': 28}"
      ]
     },
     "execution_count": 11,
     "metadata": {},
     "output_type": "execute_result"
    }
   ],
   "source": [
    "country_dict"
   ]
  },
  {
   "cell_type": "code",
   "execution_count": 12,
   "metadata": {
    "ExecuteTime": {
     "end_time": "2021-01-25T08:03:35.728236Z",
     "start_time": "2021-01-25T08:03:35.722224Z"
    }
   },
   "outputs": [
    {
     "name": "stderr",
     "output_type": "stream",
     "text": [
      "/Users/ionut/.venvs/datas37/lib/python3.7/site-packages/ipykernel_launcher.py:1: SettingWithCopyWarning: \n",
      "A value is trying to be set on a copy of a slice from a DataFrame.\n",
      "Try using .loc[row_indexer,col_indexer] = value instead\n",
      "\n",
      "See the caveats in the documentation: https://pandas.pydata.org/pandas-docs/stable/user_guide/indexing.html#returning-a-view-versus-a-copy\n",
      "  \"\"\"Entry point for launching an IPython kernel.\n"
     ]
    }
   ],
   "source": [
    "#df2['Country '] = df2['Country '].map(country_dict)"
   ]
  },
  {
   "cell_type": "code",
   "execution_count": 13,
   "metadata": {
    "ExecuteTime": {
     "end_time": "2021-01-25T08:03:36.210997Z",
     "start_time": "2021-01-25T08:03:36.180237Z"
    }
   },
   "outputs": [
    {
     "data": {
      "text/html": [
       "<div>\n",
       "<style scoped>\n",
       "    .dataframe tbody tr th:only-of-type {\n",
       "        vertical-align: middle;\n",
       "    }\n",
       "\n",
       "    .dataframe tbody tr th {\n",
       "        vertical-align: top;\n",
       "    }\n",
       "\n",
       "    .dataframe thead th {\n",
       "        text-align: right;\n",
       "    }\n",
       "</style>\n",
       "<table border=\"1\" class=\"dataframe\">\n",
       "  <thead>\n",
       "    <tr style=\"text-align: right;\">\n",
       "      <th></th>\n",
       "      <th>Country</th>\n",
       "      <th>Year</th>\n",
       "      <th>GDP in euro</th>\n",
       "      <th>Interest rate cut</th>\n",
       "      <th>Per capita income</th>\n",
       "      <th>Saving rate</th>\n",
       "      <th>Ownership</th>\n",
       "      <th>Capital mobilization</th>\n",
       "      <th>Balance of payments</th>\n",
       "      <th>Unemployment rate</th>\n",
       "      <th>Budget deficit or suplus</th>\n",
       "      <th>Consumption</th>\n",
       "      <th>Eurozone</th>\n",
       "      <th>Non-euro</th>\n",
       "      <th>Pre-covid</th>\n",
       "      <th>Post-covid</th>\n",
       "    </tr>\n",
       "  </thead>\n",
       "  <tbody>\n",
       "    <tr>\n",
       "      <th>1</th>\n",
       "      <td>1</td>\n",
       "      <td>2018Q2</td>\n",
       "      <td>114752.0</td>\n",
       "      <td>0.81</td>\n",
       "      <td>115494.0</td>\n",
       "      <td>11.39</td>\n",
       "      <td>107.27</td>\n",
       "      <td>107.7</td>\n",
       "      <td>2168.0</td>\n",
       "      <td>304</td>\n",
       "      <td>5.0</td>\n",
       "      <td>59380.0</td>\n",
       "      <td>1</td>\n",
       "      <td>0</td>\n",
       "      <td>1</td>\n",
       "      <td>0</td>\n",
       "    </tr>\n",
       "    <tr>\n",
       "      <th>2</th>\n",
       "      <td>1</td>\n",
       "      <td>2018Q3</td>\n",
       "      <td>115127.0</td>\n",
       "      <td>0.72</td>\n",
       "      <td>116002.0</td>\n",
       "      <td>11.53</td>\n",
       "      <td>109.03</td>\n",
       "      <td>102.8</td>\n",
       "      <td>-3162.0</td>\n",
       "      <td>300</td>\n",
       "      <td>-4.7</td>\n",
       "      <td>59739.0</td>\n",
       "      <td>1</td>\n",
       "      <td>0</td>\n",
       "      <td>1</td>\n",
       "      <td>0</td>\n",
       "    </tr>\n",
       "    <tr>\n",
       "      <th>3</th>\n",
       "      <td>1</td>\n",
       "      <td>2018Q4</td>\n",
       "      <td>117190.0</td>\n",
       "      <td>0.80</td>\n",
       "      <td>119514.0</td>\n",
       "      <td>12.08</td>\n",
       "      <td>108.56</td>\n",
       "      <td>124.4</td>\n",
       "      <td>-2327.0</td>\n",
       "      <td>290</td>\n",
       "      <td>3.0</td>\n",
       "      <td>60354.0</td>\n",
       "      <td>1</td>\n",
       "      <td>0</td>\n",
       "      <td>1</td>\n",
       "      <td>0</td>\n",
       "    </tr>\n",
       "    <tr>\n",
       "      <th>4</th>\n",
       "      <td>1</td>\n",
       "      <td>2019Q1</td>\n",
       "      <td>117479.0</td>\n",
       "      <td>0.67</td>\n",
       "      <td>118334.0</td>\n",
       "      <td>13.07</td>\n",
       "      <td>109.56</td>\n",
       "      <td>106.9</td>\n",
       "      <td>-1267.0</td>\n",
       "      <td>284</td>\n",
       "      <td>-8.3</td>\n",
       "      <td>60445.0</td>\n",
       "      <td>1</td>\n",
       "      <td>0</td>\n",
       "      <td>1</td>\n",
       "      <td>0</td>\n",
       "    </tr>\n",
       "    <tr>\n",
       "      <th>5</th>\n",
       "      <td>1</td>\n",
       "      <td>2019Q2</td>\n",
       "      <td>118592.0</td>\n",
       "      <td>0.34</td>\n",
       "      <td>120865.0</td>\n",
       "      <td>13.57</td>\n",
       "      <td>110.21</td>\n",
       "      <td>112.2</td>\n",
       "      <td>778.0</td>\n",
       "      <td>272</td>\n",
       "      <td>2.6</td>\n",
       "      <td>60993.0</td>\n",
       "      <td>1</td>\n",
       "      <td>0</td>\n",
       "      <td>0</td>\n",
       "      <td>1</td>\n",
       "    </tr>\n",
       "    <tr>\n",
       "      <th>...</th>\n",
       "      <td>...</td>\n",
       "      <td>...</td>\n",
       "      <td>...</td>\n",
       "      <td>...</td>\n",
       "      <td>...</td>\n",
       "      <td>...</td>\n",
       "      <td>...</td>\n",
       "      <td>...</td>\n",
       "      <td>...</td>\n",
       "      <td>...</td>\n",
       "      <td>...</td>\n",
       "      <td>...</td>\n",
       "      <td>...</td>\n",
       "      <td>...</td>\n",
       "      <td>...</td>\n",
       "      <td>...</td>\n",
       "    </tr>\n",
       "    <tr>\n",
       "      <th>302</th>\n",
       "      <td>28</td>\n",
       "      <td>2019Q2</td>\n",
       "      <td>630981.9</td>\n",
       "      <td>1.02</td>\n",
       "      <td>628850.0</td>\n",
       "      <td>6.48</td>\n",
       "      <td>110.14</td>\n",
       "      <td>103.2</td>\n",
       "      <td>-33678.6</td>\n",
       "      <td>1252</td>\n",
       "      <td>-4.2</td>\n",
       "      <td>405410.6</td>\n",
       "      <td>0</td>\n",
       "      <td>1</td>\n",
       "      <td>0</td>\n",
       "      <td>1</td>\n",
       "    </tr>\n",
       "    <tr>\n",
       "      <th>303</th>\n",
       "      <td>28</td>\n",
       "      <td>2019Q3</td>\n",
       "      <td>618880.6</td>\n",
       "      <td>0.60</td>\n",
       "      <td>612293.0</td>\n",
       "      <td>6.20</td>\n",
       "      <td>111.40</td>\n",
       "      <td>110.5</td>\n",
       "      <td>-40963.8</td>\n",
       "      <td>1333</td>\n",
       "      <td>-2.7</td>\n",
       "      <td>396191.1</td>\n",
       "      <td>0</td>\n",
       "      <td>1</td>\n",
       "      <td>0</td>\n",
       "      <td>1</td>\n",
       "    </tr>\n",
       "    <tr>\n",
       "      <th>304</th>\n",
       "      <td>28</td>\n",
       "      <td>2019Q4</td>\n",
       "      <td>649860.6</td>\n",
       "      <td>0.71</td>\n",
       "      <td>644928.0</td>\n",
       "      <td>7.38</td>\n",
       "      <td>111.50</td>\n",
       "      <td>109.0</td>\n",
       "      <td>12985.9</td>\n",
       "      <td>1231</td>\n",
       "      <td>-4.0</td>\n",
       "      <td>414269.6</td>\n",
       "      <td>0</td>\n",
       "      <td>1</td>\n",
       "      <td>0</td>\n",
       "      <td>1</td>\n",
       "    </tr>\n",
       "    <tr>\n",
       "      <th>305</th>\n",
       "      <td>28</td>\n",
       "      <td>2020Q1</td>\n",
       "      <td>642870.4</td>\n",
       "      <td>0.55</td>\n",
       "      <td>629401.0</td>\n",
       "      <td>9.13</td>\n",
       "      <td>111.76</td>\n",
       "      <td>110.2</td>\n",
       "      <td>-6258.0</td>\n",
       "      <td>1321</td>\n",
       "      <td>-0.3</td>\n",
       "      <td>402783.4</td>\n",
       "      <td>0</td>\n",
       "      <td>1</td>\n",
       "      <td>0</td>\n",
       "      <td>1</td>\n",
       "    </tr>\n",
       "    <tr>\n",
       "      <th>306</th>\n",
       "      <td>28</td>\n",
       "      <td>2020Q2</td>\n",
       "      <td>536776.7</td>\n",
       "      <td>0.25</td>\n",
       "      <td>514841.0</td>\n",
       "      <td>28.12</td>\n",
       "      <td>111.76</td>\n",
       "      <td>78.1</td>\n",
       "      <td>-13648.7</td>\n",
       "      <td>1290</td>\n",
       "      <td>-25.9</td>\n",
       "      <td>305501.4</td>\n",
       "      <td>0</td>\n",
       "      <td>1</td>\n",
       "      <td>0</td>\n",
       "      <td>1</td>\n",
       "    </tr>\n",
       "  </tbody>\n",
       "</table>\n",
       "<p>240 rows × 16 columns</p>\n",
       "</div>"
      ],
      "text/plain": [
       "     Country     Year  GDP in euro   Interest rate cut  Per capita income  \\\n",
       "1           1  2018Q2      114752.0               0.81           115494.0   \n",
       "2           1  2018Q3      115127.0               0.72           116002.0   \n",
       "3           1  2018Q4      117190.0               0.80           119514.0   \n",
       "4           1  2019Q1      117479.0               0.67           118334.0   \n",
       "5           1  2019Q2      118592.0               0.34           120865.0   \n",
       "..        ...     ...           ...                ...                ...   \n",
       "302        28  2019Q2      630981.9               1.02           628850.0   \n",
       "303        28  2019Q3      618880.6               0.60           612293.0   \n",
       "304        28  2019Q4      649860.6               0.71           644928.0   \n",
       "305        28  2020Q1      642870.4               0.55           629401.0   \n",
       "306        28  2020Q2      536776.7               0.25           514841.0   \n",
       "\n",
       "     Saving rate  Ownership  Capital mobilization  Balance of payments  \\\n",
       "1          11.39     107.27                 107.7               2168.0   \n",
       "2          11.53     109.03                 102.8              -3162.0   \n",
       "3          12.08     108.56                 124.4              -2327.0   \n",
       "4          13.07     109.56                 106.9              -1267.0   \n",
       "5          13.57     110.21                 112.2                778.0   \n",
       "..           ...        ...                   ...                  ...   \n",
       "302         6.48     110.14                 103.2             -33678.6   \n",
       "303         6.20     111.40                 110.5             -40963.8   \n",
       "304         7.38     111.50                 109.0              12985.9   \n",
       "305         9.13     111.76                 110.2              -6258.0   \n",
       "306        28.12     111.76                  78.1             -13648.7   \n",
       "\n",
       "     Unemployment rate  Budget deficit or suplus  Consumption  Eurozone  \\\n",
       "1                  304                       5.0      59380.0         1   \n",
       "2                  300                      -4.7      59739.0         1   \n",
       "3                  290                       3.0      60354.0         1   \n",
       "4                  284                      -8.3      60445.0         1   \n",
       "5                  272                       2.6      60993.0         1   \n",
       "..                 ...                       ...          ...       ...   \n",
       "302               1252                      -4.2     405410.6         0   \n",
       "303               1333                      -2.7     396191.1         0   \n",
       "304               1231                      -4.0     414269.6         0   \n",
       "305               1321                      -0.3     402783.4         0   \n",
       "306               1290                     -25.9     305501.4         0   \n",
       "\n",
       "     Non-euro  Pre-covid  Post-covid  \n",
       "1           0          1           0  \n",
       "2           0          1           0  \n",
       "3           0          1           0  \n",
       "4           0          1           0  \n",
       "5           0          0           1  \n",
       "..        ...        ...         ...  \n",
       "302         1          0           1  \n",
       "303         1          0           1  \n",
       "304         1          0           1  \n",
       "305         1          0           1  \n",
       "306         1          0           1  \n",
       "\n",
       "[240 rows x 16 columns]"
      ]
     },
     "execution_count": 13,
     "metadata": {},
     "output_type": "execute_result"
    }
   ],
   "source": [
    "df2"
   ]
  },
  {
   "cell_type": "code",
   "execution_count": 14,
   "metadata": {
    "ExecuteTime": {
     "end_time": "2021-01-25T08:03:36.654925Z",
     "start_time": "2021-01-25T08:03:36.651963Z"
    }
   },
   "outputs": [],
   "source": [
    "def strip_quarter(string):\n",
    "    new_str = string[-2:]\n",
    "    return new_str"
   ]
  },
  {
   "cell_type": "code",
   "execution_count": 15,
   "metadata": {
    "ExecuteTime": {
     "end_time": "2021-01-25T08:03:37.127016Z",
     "start_time": "2021-01-25T08:03:37.123350Z"
    }
   },
   "outputs": [],
   "source": [
    "def strip_year(string):\n",
    "    new_str = string[:4]\n",
    "    return new_str"
   ]
  },
  {
   "cell_type": "code",
   "execution_count": 16,
   "metadata": {
    "ExecuteTime": {
     "end_time": "2021-01-25T08:03:37.587819Z",
     "start_time": "2021-01-25T08:03:37.583248Z"
    }
   },
   "outputs": [
    {
     "name": "stderr",
     "output_type": "stream",
     "text": [
      "/Users/ionut/.venvs/datas37/lib/python3.7/site-packages/ipykernel_launcher.py:1: SettingWithCopyWarning: \n",
      "A value is trying to be set on a copy of a slice from a DataFrame.\n",
      "Try using .loc[row_indexer,col_indexer] = value instead\n",
      "\n",
      "See the caveats in the documentation: https://pandas.pydata.org/pandas-docs/stable/user_guide/indexing.html#returning-a-view-versus-a-copy\n",
      "  \"\"\"Entry point for launching an IPython kernel.\n"
     ]
    }
   ],
   "source": [
    "df2['Quarter'] = df2['Year'].apply(strip_quarter)"
   ]
  },
  {
   "cell_type": "code",
   "execution_count": 17,
   "metadata": {
    "ExecuteTime": {
     "end_time": "2021-01-25T08:03:38.075698Z",
     "start_time": "2021-01-25T08:03:38.069894Z"
    }
   },
   "outputs": [
    {
     "name": "stderr",
     "output_type": "stream",
     "text": [
      "/Users/ionut/.venvs/datas37/lib/python3.7/site-packages/ipykernel_launcher.py:1: SettingWithCopyWarning: \n",
      "A value is trying to be set on a copy of a slice from a DataFrame.\n",
      "Try using .loc[row_indexer,col_indexer] = value instead\n",
      "\n",
      "See the caveats in the documentation: https://pandas.pydata.org/pandas-docs/stable/user_guide/indexing.html#returning-a-view-versus-a-copy\n",
      "  \"\"\"Entry point for launching an IPython kernel.\n",
      "/Users/ionut/.venvs/datas37/lib/python3.7/site-packages/ipykernel_launcher.py:2: SettingWithCopyWarning: \n",
      "A value is trying to be set on a copy of a slice from a DataFrame.\n",
      "Try using .loc[row_indexer,col_indexer] = value instead\n",
      "\n",
      "See the caveats in the documentation: https://pandas.pydata.org/pandas-docs/stable/user_guide/indexing.html#returning-a-view-versus-a-copy\n",
      "  \n"
     ]
    }
   ],
   "source": [
    "df2['Year'] = df2['Year'].apply(strip_year)\n",
    "df2['Year'] = df2['Year'].astype(str)"
   ]
  },
  {
   "cell_type": "code",
   "execution_count": 18,
   "metadata": {
    "ExecuteTime": {
     "end_time": "2021-01-25T08:03:49.546069Z",
     "start_time": "2021-01-25T08:03:49.541674Z"
    }
   },
   "outputs": [
    {
     "data": {
      "text/plain": [
       "\"from datetime import datetime as dt\\ndef year_conv(string):\\n    result= dt.strptime(string, '%Y')\\n    return result\""
      ]
     },
     "execution_count": 18,
     "metadata": {},
     "output_type": "execute_result"
    }
   ],
   "source": [
    "#df2['Year'] = pd.to_datetime(df2['Year'], format='%Y')\n",
    "\"\"\"from datetime import datetime as dt\n",
    "def year_conv(string):\n",
    "    result= dt.strptime(string, '%Y')\n",
    "    return result\"\"\""
   ]
  },
  {
   "cell_type": "code",
   "execution_count": 19,
   "metadata": {
    "ExecuteTime": {
     "end_time": "2021-01-25T08:03:51.252945Z",
     "start_time": "2021-01-25T08:03:51.249079Z"
    }
   },
   "outputs": [
    {
     "data": {
      "text/plain": [
       "\"for row in range(1, df2.shape[0]):\\n    if ':' in str(df2.at[row, 'Saving rate']):\\n        print(row)\""
      ]
     },
     "execution_count": 19,
     "metadata": {},
     "output_type": "execute_result"
    }
   ],
   "source": [
    "\"\"\"for row in range(1, df2.shape[0]):\n",
    "    if ':' in str(df2.at[row, 'Saving rate']):\n",
    "        print(row)\"\"\""
   ]
  },
  {
   "cell_type": "code",
   "execution_count": 20,
   "metadata": {
    "ExecuteTime": {
     "end_time": "2021-01-25T08:03:51.773647Z",
     "start_time": "2021-01-25T08:03:51.769861Z"
    }
   },
   "outputs": [
    {
     "name": "stderr",
     "output_type": "stream",
     "text": [
      "/Users/ionut/.venvs/datas37/lib/python3.7/site-packages/ipykernel_launcher.py:1: SettingWithCopyWarning: \n",
      "A value is trying to be set on a copy of a slice from a DataFrame.\n",
      "Try using .loc[row_indexer,col_indexer] = value instead\n",
      "\n",
      "See the caveats in the documentation: https://pandas.pydata.org/pandas-docs/stable/user_guide/indexing.html#returning-a-view-versus-a-copy\n",
      "  \"\"\"Entry point for launching an IPython kernel.\n"
     ]
    }
   ],
   "source": [
    "df2['Saving rate'] = df2['Saving rate'].astype('float64')"
   ]
  },
  {
   "cell_type": "code",
   "execution_count": 21,
   "metadata": {
    "ExecuteTime": {
     "end_time": "2021-01-25T08:03:53.171477Z",
     "start_time": "2021-01-25T08:03:53.169077Z"
    }
   },
   "outputs": [],
   "source": [
    "#df2['Year'] = df2['Year'].apply(year_conv)"
   ]
  },
  {
   "cell_type": "code",
   "execution_count": 22,
   "metadata": {
    "ExecuteTime": {
     "end_time": "2021-01-25T08:03:53.951007Z",
     "start_time": "2021-01-25T08:03:53.945103Z"
    }
   },
   "outputs": [
    {
     "data": {
      "text/plain": [
       "Country                       int64\n",
       "Year                         object\n",
       "GDP in euro                 float64\n",
       "Interest rate cut           float64\n",
       "Per capita income           float64\n",
       "Saving rate                 float64\n",
       "Ownership                   float64\n",
       "Capital mobilization        float64\n",
       "Balance of payments         float64\n",
       "Unemployment rate             int64\n",
       "Budget deficit or suplus    float64\n",
       "Consumption                 float64\n",
       "Eurozone                      int64\n",
       "Non-euro                      int64\n",
       "Pre-covid                     int64\n",
       "Post-covid                    int64\n",
       "Quarter                      object\n",
       "dtype: object"
      ]
     },
     "execution_count": 22,
     "metadata": {},
     "output_type": "execute_result"
    }
   ],
   "source": [
    "df2.dtypes"
   ]
  },
  {
   "cell_type": "code",
   "execution_count": null,
   "metadata": {
    "ExecuteTime": {
     "end_time": "2021-01-25T08:01:51.181978Z",
     "start_time": "2021-01-25T08:01:50.928619Z"
    }
   },
   "outputs": [],
   "source": [
    "df3 = pd.get_dummies(df2, prefix=['c_','year_', 'qtr_'])\n",
    "df3"
   ]
  },
  {
   "cell_type": "code",
   "execution_count": null,
   "metadata": {
    "ExecuteTime": {
     "end_time": "2021-01-25T08:01:51.750641Z",
     "start_time": "2021-01-25T08:01:51.739768Z"
    }
   },
   "outputs": [],
   "source": [
    "df3.columns"
   ]
  },
  {
   "cell_type": "markdown",
   "metadata": {},
   "source": [
    "For 'Ownership' as dependent variable - see how corectly it is predicted by all others\n",
    "- separam parametrul si il prezicem pe baza celorlalti"
   ]
  },
  {
   "cell_type": "code",
   "execution_count": null,
   "metadata": {
    "ExecuteTime": {
     "end_time": "2021-01-23T17:25:55.136808Z",
     "start_time": "2021-01-23T17:25:55.129715Z"
    }
   },
   "outputs": [],
   "source": [
    "X = df3[['Interest rate cut', 'Per capita income', 'Saving rate',\n",
    "       'Ownership', 'Capital mobilization', 'Balance of payments',\n",
    "       'Unemployment rate', 'Budget deficit or suplus', 'Consumption',\n",
    "       'Eurozone', 'Non-euro', 'Pre-covid', 'Post-covid', 'c__Austria ',\n",
    "       'c__Belgia', 'c__Bulgaria ', 'c__Cehia ', 'c__Cipru', 'c__Croația',\n",
    "       'c__Danemarca', 'c__Estonia', 'c__Finlanda', 'c__Franța', 'c__Germania',\n",
    "       'c__Grecia', 'c__Irlanda', 'c__Italia', 'c__Letonia', 'c__Lituania',\n",
    "       'c__Luxembourg', 'c__Malta', 'c__Polonia', 'c__Portugalia',\n",
    "       'c__Regatul Unit', 'c__Romania', 'c__Slovacia', 'c__Slovenia',\n",
    "       'c__Spania', 'c__Suedia', 'c__Tările de Jos', 'c__Ungaria ',\n",
    "       'year__2018', 'year__2019', 'year__2020', 'qtr__Q1', 'qtr__Q2',\n",
    "       'qtr__Q3', 'qtr__Q4']]"
   ]
  },
  {
   "cell_type": "code",
   "execution_count": null,
   "metadata": {
    "ExecuteTime": {
     "end_time": "2021-01-23T17:25:56.366363Z",
     "start_time": "2021-01-23T17:25:56.361821Z"
    }
   },
   "outputs": [],
   "source": [
    "y = df3[['GDP in euro ']]"
   ]
  },
  {
   "cell_type": "code",
   "execution_count": null,
   "metadata": {
    "ExecuteTime": {
     "end_time": "2021-01-23T17:25:57.296592Z",
     "start_time": "2021-01-23T17:25:57.291301Z"
    }
   },
   "outputs": [],
   "source": [
    "X_train, X_test, y_train, y_test = train_test_split(X, y, train_size=0.65,test_size=0.35, random_state=1)\n"
   ]
  },
  {
   "cell_type": "code",
   "execution_count": null,
   "metadata": {
    "ExecuteTime": {
     "end_time": "2021-01-23T17:25:57.964046Z",
     "start_time": "2021-01-23T17:25:57.961380Z"
    }
   },
   "outputs": [],
   "source": [
    "c = LinearRegression()"
   ]
  },
  {
   "cell_type": "code",
   "execution_count": null,
   "metadata": {
    "ExecuteTime": {
     "end_time": "2021-01-23T17:25:58.652024Z",
     "start_time": "2021-01-23T17:25:58.639369Z"
    }
   },
   "outputs": [],
   "source": [
    "c.fit(X_train, y_train)"
   ]
  },
  {
   "cell_type": "code",
   "execution_count": null,
   "metadata": {
    "ExecuteTime": {
     "end_time": "2021-01-23T17:25:59.712077Z",
     "start_time": "2021-01-23T17:25:59.708184Z"
    }
   },
   "outputs": [],
   "source": [
    "y_pred = c.predict(X_test)"
   ]
  },
  {
   "cell_type": "code",
   "execution_count": null,
   "metadata": {
    "ExecuteTime": {
     "end_time": "2021-01-23T17:26:00.755112Z",
     "start_time": "2021-01-23T17:26:00.749422Z"
    }
   },
   "outputs": [],
   "source": [
    "y_pred \n",
    "#astea-s valorile prezise de model pentru'Ownership' ca variabila dependenta"
   ]
  },
  {
   "cell_type": "code",
   "execution_count": null,
   "metadata": {
    "ExecuteTime": {
     "end_time": "2021-01-23T17:26:01.951685Z",
     "start_time": "2021-01-23T17:26:01.945451Z"
    }
   },
   "outputs": [],
   "source": [
    "c.score(X_test, y_test)\n",
    "#asta e The R2 (R squared) score"
   ]
  },
  {
   "cell_type": "code",
   "execution_count": null,
   "metadata": {
    "ExecuteTime": {
     "end_time": "2021-01-23T17:26:06.581980Z",
     "start_time": "2021-01-23T17:26:06.577200Z"
    }
   },
   "outputs": [],
   "source": [
    "c.coef_\n",
    "#asta e matricea de coeficienti Estimated coefficients for the linear regression problem. \n",
    "#If multiple targets are passed during the fit (y 2D), this is a 2D array of shape (n_targets, n_features)"
   ]
  },
  {
   "cell_type": "code",
   "execution_count": null,
   "metadata": {
    "ExecuteTime": {
     "end_time": "2021-01-23T17:26:14.313547Z",
     "start_time": "2021-01-23T17:26:14.308697Z"
    }
   },
   "outputs": [],
   "source": [
    "c.intercept_"
   ]
  },
  {
   "cell_type": "code",
   "execution_count": null,
   "metadata": {
    "ExecuteTime": {
     "end_time": "2021-01-23T17:02:36.684497Z",
     "start_time": "2021-01-23T17:02:36.679208Z"
    }
   },
   "outputs": [],
   "source": [
    "dir(c)"
   ]
  },
  {
   "cell_type": "code",
   "execution_count": null,
   "metadata": {
    "ExecuteTime": {
     "end_time": "2021-01-23T18:55:50.334502Z",
     "start_time": "2021-01-23T18:55:49.383798Z"
    }
   },
   "outputs": [],
   "source": [
    "import statsmodels.api as sm\n"
   ]
  },
  {
   "cell_type": "code",
   "execution_count": null,
   "metadata": {
    "ExecuteTime": {
     "end_time": "2021-01-23T18:58:05.396983Z",
     "start_time": "2021-01-23T18:58:05.368294Z"
    }
   },
   "outputs": [],
   "source": [
    "Xs = sm.add_constant(X)"
   ]
  },
  {
   "cell_type": "code",
   "execution_count": null,
   "metadata": {
    "ExecuteTime": {
     "end_time": "2021-01-23T19:02:51.544623Z",
     "start_time": "2021-01-23T19:02:51.539703Z"
    }
   },
   "outputs": [],
   "source": [
    "model = sm.OLS(y, Xs)"
   ]
  },
  {
   "cell_type": "code",
   "execution_count": null,
   "metadata": {
    "ExecuteTime": {
     "end_time": "2021-01-23T19:02:52.508413Z",
     "start_time": "2021-01-23T19:02:52.502238Z"
    }
   },
   "outputs": [],
   "source": [
    "results = model.fit()"
   ]
  },
  {
   "cell_type": "code",
   "execution_count": null,
   "metadata": {
    "ExecuteTime": {
     "end_time": "2021-01-23T19:02:53.463669Z",
     "start_time": "2021-01-23T19:02:53.425986Z"
    }
   },
   "outputs": [],
   "source": [
    "print(results.summary())"
   ]
  },
  {
   "cell_type": "code",
   "execution_count": null,
   "metadata": {},
   "outputs": [],
   "source": []
  },
  {
   "cell_type": "code",
   "execution_count": null,
   "metadata": {},
   "outputs": [],
   "source": []
  },
  {
   "cell_type": "code",
   "execution_count": null,
   "metadata": {},
   "outputs": [],
   "source": []
  },
  {
   "cell_type": "code",
   "execution_count": null,
   "metadata": {},
   "outputs": [],
   "source": []
  },
  {
   "cell_type": "code",
   "execution_count": null,
   "metadata": {},
   "outputs": [],
   "source": []
  },
  {
   "cell_type": "code",
   "execution_count": null,
   "metadata": {},
   "outputs": [],
   "source": []
  },
  {
   "cell_type": "code",
   "execution_count": null,
   "metadata": {},
   "outputs": [],
   "source": []
  },
  {
   "cell_type": "code",
   "execution_count": null,
   "metadata": {},
   "outputs": [],
   "source": []
  },
  {
   "cell_type": "code",
   "execution_count": null,
   "metadata": {
    "ExecuteTime": {
     "end_time": "2021-01-23T15:29:35.552863Z",
     "start_time": "2021-01-23T15:29:35.546733Z"
    }
   },
   "outputs": [],
   "source": [
    "df_euro = df[df['Eurozone'] == 1]"
   ]
  },
  {
   "cell_type": "code",
   "execution_count": null,
   "metadata": {
    "ExecuteTime": {
     "end_time": "2021-01-23T15:30:30.545976Z",
     "start_time": "2021-01-23T15:30:30.540749Z"
    }
   },
   "outputs": [],
   "source": [
    "df_euro = df_euro.dropna()"
   ]
  },
  {
   "cell_type": "code",
   "execution_count": null,
   "metadata": {
    "ExecuteTime": {
     "end_time": "2021-01-23T15:23:07.125110Z",
     "start_time": "2021-01-23T15:23:07.120882Z"
    }
   },
   "outputs": [],
   "source": [
    "df_non_euro = df[df['Eurozone'] == 0]"
   ]
  },
  {
   "cell_type": "code",
   "execution_count": null,
   "metadata": {},
   "outputs": [],
   "source": [
    "df_non_euro = df_non_euro.dropna()"
   ]
  },
  {
   "cell_type": "code",
   "execution_count": null,
   "metadata": {
    "ExecuteTime": {
     "end_time": "2021-01-23T15:23:08.364723Z",
     "start_time": "2021-01-23T15:23:08.360754Z"
    }
   },
   "outputs": [],
   "source": [
    "df_precov = df[df['Pre-covid'] == 1]"
   ]
  },
  {
   "cell_type": "code",
   "execution_count": null,
   "metadata": {},
   "outputs": [],
   "source": [
    "df_precov = df_precov.dropna()"
   ]
  },
  {
   "cell_type": "code",
   "execution_count": null,
   "metadata": {
    "ExecuteTime": {
     "end_time": "2021-01-23T15:23:28.780595Z",
     "start_time": "2021-01-23T15:23:28.776602Z"
    }
   },
   "outputs": [],
   "source": [
    "df_postcov = df[df['Pre-covid'] == 0]"
   ]
  },
  {
   "cell_type": "code",
   "execution_count": null,
   "metadata": {},
   "outputs": [],
   "source": [
    "df_postcov = "
   ]
  }
 ],
 "metadata": {
  "kernelspec": {
   "display_name": "Python 3",
   "language": "python",
   "name": "python3"
  },
  "language_info": {
   "codemirror_mode": {
    "name": "ipython",
    "version": 3
   },
   "file_extension": ".py",
   "mimetype": "text/x-python",
   "name": "python",
   "nbconvert_exporter": "python",
   "pygments_lexer": "ipython3",
   "version": "3.8.5"
  },
  "varInspector": {
   "cols": {
    "lenName": 16,
    "lenType": 16,
    "lenVar": 40
   },
   "kernels_config": {
    "python": {
     "delete_cmd_postfix": "",
     "delete_cmd_prefix": "del ",
     "library": "var_list.py",
     "varRefreshCmd": "print(var_dic_list())"
    },
    "r": {
     "delete_cmd_postfix": ") ",
     "delete_cmd_prefix": "rm(",
     "library": "var_list.r",
     "varRefreshCmd": "cat(var_dic_list()) "
    }
   },
   "types_to_exclude": [
    "module",
    "function",
    "builtin_function_or_method",
    "instance",
    "_Feature"
   ],
   "window_display": false
  }
 },
 "nbformat": 4,
 "nbformat_minor": 4
}
